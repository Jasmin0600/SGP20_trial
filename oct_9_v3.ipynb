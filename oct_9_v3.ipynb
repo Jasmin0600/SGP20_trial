{
 "cells": [
  {
   "cell_type": "code",
   "execution_count": 1,
   "metadata": {},
   "outputs": [],
   "source": [
    "import pandas as pd\n",
    "import numpy as np\n",
    "import pickle"
   ]
  },
  {
   "cell_type": "code",
   "execution_count": 2,
   "metadata": {},
   "outputs": [
    {
     "data": {
      "text/html": [
       "<div>\n",
       "<style scoped>\n",
       "    .dataframe tbody tr th:only-of-type {\n",
       "        vertical-align: middle;\n",
       "    }\n",
       "\n",
       "    .dataframe tbody tr th {\n",
       "        vertical-align: top;\n",
       "    }\n",
       "\n",
       "    .dataframe thead th {\n",
       "        text-align: right;\n",
       "    }\n",
       "</style>\n",
       "<table border=\"1\" class=\"dataframe\">\n",
       "  <thead>\n",
       "    <tr style=\"text-align: right;\">\n",
       "      <th></th>\n",
       "      <th>State</th>\n",
       "      <th>District</th>\n",
       "      <th>Year</th>\n",
       "      <th>Season</th>\n",
       "      <th>Crop</th>\n",
       "      <th>Area</th>\n",
       "      <th>Production</th>\n",
       "      <th>Rainfall</th>\n",
       "      <th>temperature</th>\n",
       "    </tr>\n",
       "  </thead>\n",
       "  <tbody>\n",
       "    <tr>\n",
       "      <th>0</th>\n",
       "      <td>Gujarat</td>\n",
       "      <td>AHMADABAD</td>\n",
       "      <td>1997</td>\n",
       "      <td>Kharif</td>\n",
       "      <td>Arhar/Tur</td>\n",
       "      <td>2900</td>\n",
       "      <td>2200.0</td>\n",
       "      <td>211.88</td>\n",
       "      <td>39.075</td>\n",
       "    </tr>\n",
       "    <tr>\n",
       "      <th>1</th>\n",
       "      <td>Gujarat</td>\n",
       "      <td>AHMADABAD</td>\n",
       "      <td>1997</td>\n",
       "      <td>Kharif</td>\n",
       "      <td>Bajra</td>\n",
       "      <td>41700</td>\n",
       "      <td>43700.0</td>\n",
       "      <td>211.88</td>\n",
       "      <td>39.075</td>\n",
       "    </tr>\n",
       "    <tr>\n",
       "      <th>2</th>\n",
       "      <td>Gujarat</td>\n",
       "      <td>AHMADABAD</td>\n",
       "      <td>1997</td>\n",
       "      <td>Kharif</td>\n",
       "      <td>Dry chillies</td>\n",
       "      <td>700</td>\n",
       "      <td>700.0</td>\n",
       "      <td>211.88</td>\n",
       "      <td>39.075</td>\n",
       "    </tr>\n",
       "    <tr>\n",
       "      <th>3</th>\n",
       "      <td>Gujarat</td>\n",
       "      <td>AHMADABAD</td>\n",
       "      <td>1997</td>\n",
       "      <td>Kharif</td>\n",
       "      <td>Groundnut</td>\n",
       "      <td>500</td>\n",
       "      <td>600.0</td>\n",
       "      <td>211.88</td>\n",
       "      <td>39.075</td>\n",
       "    </tr>\n",
       "    <tr>\n",
       "      <th>4</th>\n",
       "      <td>Gujarat</td>\n",
       "      <td>AHMADABAD</td>\n",
       "      <td>1997</td>\n",
       "      <td>Kharif</td>\n",
       "      <td>Jowar</td>\n",
       "      <td>42500</td>\n",
       "      <td>33500.0</td>\n",
       "      <td>211.88</td>\n",
       "      <td>39.075</td>\n",
       "    </tr>\n",
       "  </tbody>\n",
       "</table>\n",
       "</div>"
      ],
      "text/plain": [
       "     State   District  Year  Season          Crop   Area  Production  \\\n",
       "0  Gujarat  AHMADABAD  1997  Kharif     Arhar/Tur   2900      2200.0   \n",
       "1  Gujarat  AHMADABAD  1997  Kharif         Bajra  41700     43700.0   \n",
       "2  Gujarat  AHMADABAD  1997  Kharif  Dry chillies    700       700.0   \n",
       "3  Gujarat  AHMADABAD  1997  Kharif     Groundnut    500       600.0   \n",
       "4  Gujarat  AHMADABAD  1997  Kharif         Jowar  42500     33500.0   \n",
       "\n",
       "   Rainfall  temperature  \n",
       "0    211.88       39.075  \n",
       "1    211.88       39.075  \n",
       "2    211.88       39.075  \n",
       "3    211.88       39.075  \n",
       "4    211.88       39.075  "
      ]
     },
     "execution_count": 2,
     "metadata": {},
     "output_type": "execute_result"
    }
   ],
   "source": [
    "df=pd.read_csv(\"Gujarat Data(final).csv\")\n",
    "df.head()"
   ]
  },
  {
   "cell_type": "code",
   "execution_count": 3,
   "metadata": {},
   "outputs": [
    {
     "data": {
      "text/html": [
       "<div>\n",
       "<style scoped>\n",
       "    .dataframe tbody tr th:only-of-type {\n",
       "        vertical-align: middle;\n",
       "    }\n",
       "\n",
       "    .dataframe tbody tr th {\n",
       "        vertical-align: top;\n",
       "    }\n",
       "\n",
       "    .dataframe thead th {\n",
       "        text-align: right;\n",
       "    }\n",
       "</style>\n",
       "<table border=\"1\" class=\"dataframe\">\n",
       "  <thead>\n",
       "    <tr style=\"text-align: right;\">\n",
       "      <th></th>\n",
       "      <th>State</th>\n",
       "      <th>District</th>\n",
       "      <th>Year</th>\n",
       "      <th>Season</th>\n",
       "      <th>Crop</th>\n",
       "      <th>Area</th>\n",
       "      <th>Production</th>\n",
       "      <th>Rainfall</th>\n",
       "      <th>temperature</th>\n",
       "    </tr>\n",
       "  </thead>\n",
       "  <tbody>\n",
       "    <tr>\n",
       "      <th>0</th>\n",
       "      <td>Gujarat</td>\n",
       "      <td>AHMADABAD</td>\n",
       "      <td>1997</td>\n",
       "      <td>Kharif</td>\n",
       "      <td>Arhar/Tur</td>\n",
       "      <td>2900</td>\n",
       "      <td>2200.0</td>\n",
       "      <td>211.880</td>\n",
       "      <td>39.075000</td>\n",
       "    </tr>\n",
       "    <tr>\n",
       "      <th>1</th>\n",
       "      <td>Gujarat</td>\n",
       "      <td>AHMADABAD</td>\n",
       "      <td>1997</td>\n",
       "      <td>Kharif</td>\n",
       "      <td>Bajra</td>\n",
       "      <td>41700</td>\n",
       "      <td>43700.0</td>\n",
       "      <td>211.880</td>\n",
       "      <td>39.075000</td>\n",
       "    </tr>\n",
       "    <tr>\n",
       "      <th>2</th>\n",
       "      <td>Gujarat</td>\n",
       "      <td>AHMADABAD</td>\n",
       "      <td>1997</td>\n",
       "      <td>Kharif</td>\n",
       "      <td>Dry chillies</td>\n",
       "      <td>700</td>\n",
       "      <td>700.0</td>\n",
       "      <td>211.880</td>\n",
       "      <td>39.075000</td>\n",
       "    </tr>\n",
       "    <tr>\n",
       "      <th>3</th>\n",
       "      <td>Gujarat</td>\n",
       "      <td>AHMADABAD</td>\n",
       "      <td>1997</td>\n",
       "      <td>Kharif</td>\n",
       "      <td>Groundnut</td>\n",
       "      <td>500</td>\n",
       "      <td>600.0</td>\n",
       "      <td>211.880</td>\n",
       "      <td>39.075000</td>\n",
       "    </tr>\n",
       "    <tr>\n",
       "      <th>4</th>\n",
       "      <td>Gujarat</td>\n",
       "      <td>AHMADABAD</td>\n",
       "      <td>1997</td>\n",
       "      <td>Kharif</td>\n",
       "      <td>Jowar</td>\n",
       "      <td>42500</td>\n",
       "      <td>33500.0</td>\n",
       "      <td>211.880</td>\n",
       "      <td>39.075000</td>\n",
       "    </tr>\n",
       "    <tr>\n",
       "      <th>...</th>\n",
       "      <td>...</td>\n",
       "      <td>...</td>\n",
       "      <td>...</td>\n",
       "      <td>...</td>\n",
       "      <td>...</td>\n",
       "      <td>...</td>\n",
       "      <td>...</td>\n",
       "      <td>...</td>\n",
       "      <td>...</td>\n",
       "    </tr>\n",
       "    <tr>\n",
       "      <th>8431</th>\n",
       "      <td>Gujarat</td>\n",
       "      <td>VALSAD</td>\n",
       "      <td>2012</td>\n",
       "      <td>Rabi</td>\n",
       "      <td>Gram</td>\n",
       "      <td>2000</td>\n",
       "      <td>2000.0</td>\n",
       "      <td>1.750</td>\n",
       "      <td>27.883333</td>\n",
       "    </tr>\n",
       "    <tr>\n",
       "      <th>8432</th>\n",
       "      <td>Gujarat</td>\n",
       "      <td>VALSAD</td>\n",
       "      <td>2012</td>\n",
       "      <td>Rabi</td>\n",
       "      <td>Other Rabi pulses</td>\n",
       "      <td>3300</td>\n",
       "      <td>2600.0</td>\n",
       "      <td>1.750</td>\n",
       "      <td>27.883333</td>\n",
       "    </tr>\n",
       "    <tr>\n",
       "      <th>8433</th>\n",
       "      <td>Gujarat</td>\n",
       "      <td>VALSAD</td>\n",
       "      <td>2012</td>\n",
       "      <td>Summer</td>\n",
       "      <td>Rice</td>\n",
       "      <td>600</td>\n",
       "      <td>1700.0</td>\n",
       "      <td>7.138</td>\n",
       "      <td>32.640000</td>\n",
       "    </tr>\n",
       "    <tr>\n",
       "      <th>8434</th>\n",
       "      <td>Gujarat</td>\n",
       "      <td>VALSAD</td>\n",
       "      <td>2012</td>\n",
       "      <td>Whole Year</td>\n",
       "      <td>Dry chillies</td>\n",
       "      <td>100</td>\n",
       "      <td>100.0</td>\n",
       "      <td>43.242</td>\n",
       "      <td>29.810000</td>\n",
       "    </tr>\n",
       "    <tr>\n",
       "      <th>8435</th>\n",
       "      <td>Gujarat</td>\n",
       "      <td>VALSAD</td>\n",
       "      <td>2012</td>\n",
       "      <td>Whole Year</td>\n",
       "      <td>Sugarcane</td>\n",
       "      <td>8600</td>\n",
       "      <td>65500.0</td>\n",
       "      <td>43.242</td>\n",
       "      <td>29.810000</td>\n",
       "    </tr>\n",
       "  </tbody>\n",
       "</table>\n",
       "<p>8436 rows × 9 columns</p>\n",
       "</div>"
      ],
      "text/plain": [
       "        State   District  Year      Season               Crop   Area  \\\n",
       "0     Gujarat  AHMADABAD  1997      Kharif          Arhar/Tur   2900   \n",
       "1     Gujarat  AHMADABAD  1997      Kharif              Bajra  41700   \n",
       "2     Gujarat  AHMADABAD  1997      Kharif       Dry chillies    700   \n",
       "3     Gujarat  AHMADABAD  1997      Kharif          Groundnut    500   \n",
       "4     Gujarat  AHMADABAD  1997      Kharif              Jowar  42500   \n",
       "...       ...        ...   ...         ...                ...    ...   \n",
       "8431  Gujarat     VALSAD  2012        Rabi               Gram   2000   \n",
       "8432  Gujarat     VALSAD  2012        Rabi  Other Rabi pulses   3300   \n",
       "8433  Gujarat     VALSAD  2012      Summer               Rice    600   \n",
       "8434  Gujarat     VALSAD  2012  Whole Year       Dry chillies    100   \n",
       "8435  Gujarat     VALSAD  2012  Whole Year          Sugarcane   8600   \n",
       "\n",
       "      Production  Rainfall  temperature  \n",
       "0         2200.0   211.880    39.075000  \n",
       "1        43700.0   211.880    39.075000  \n",
       "2          700.0   211.880    39.075000  \n",
       "3          600.0   211.880    39.075000  \n",
       "4        33500.0   211.880    39.075000  \n",
       "...          ...       ...          ...  \n",
       "8431      2000.0     1.750    27.883333  \n",
       "8432      2600.0     1.750    27.883333  \n",
       "8433      1700.0     7.138    32.640000  \n",
       "8434       100.0    43.242    29.810000  \n",
       "8435     65500.0    43.242    29.810000  \n",
       "\n",
       "[8436 rows x 9 columns]"
      ]
     },
     "execution_count": 3,
     "metadata": {},
     "output_type": "execute_result"
    }
   ],
   "source": [
    "df.replace([np.inf, -np.inf], np.nan)\n"
   ]
  },
  {
   "cell_type": "code",
   "execution_count": 4,
   "metadata": {},
   "outputs": [
    {
     "data": {
      "text/plain": [
       "(8365, 9)"
      ]
     },
     "execution_count": 4,
     "metadata": {},
     "output_type": "execute_result"
    }
   ],
   "source": [
    "df=df.dropna()\n",
    "df.shape"
   ]
  },
  {
   "cell_type": "code",
   "execution_count": 5,
   "metadata": {},
   "outputs": [
    {
     "data": {
      "text/html": [
       "<div>\n",
       "<style scoped>\n",
       "    .dataframe tbody tr th:only-of-type {\n",
       "        vertical-align: middle;\n",
       "    }\n",
       "\n",
       "    .dataframe tbody tr th {\n",
       "        vertical-align: top;\n",
       "    }\n",
       "\n",
       "    .dataframe thead th {\n",
       "        text-align: right;\n",
       "    }\n",
       "</style>\n",
       "<table border=\"1\" class=\"dataframe\">\n",
       "  <thead>\n",
       "    <tr style=\"text-align: right;\">\n",
       "      <th></th>\n",
       "      <th>District</th>\n",
       "      <th>Year</th>\n",
       "      <th>Season</th>\n",
       "      <th>Crop</th>\n",
       "      <th>Area</th>\n",
       "      <th>Production</th>\n",
       "      <th>Rainfall</th>\n",
       "      <th>temperature</th>\n",
       "    </tr>\n",
       "  </thead>\n",
       "  <tbody>\n",
       "    <tr>\n",
       "      <th>0</th>\n",
       "      <td>AHMADABAD</td>\n",
       "      <td>1997</td>\n",
       "      <td>Kharif</td>\n",
       "      <td>Arhar/Tur</td>\n",
       "      <td>2900</td>\n",
       "      <td>2200.0</td>\n",
       "      <td>211.88</td>\n",
       "      <td>39.075</td>\n",
       "    </tr>\n",
       "    <tr>\n",
       "      <th>1</th>\n",
       "      <td>AHMADABAD</td>\n",
       "      <td>1997</td>\n",
       "      <td>Kharif</td>\n",
       "      <td>Bajra</td>\n",
       "      <td>41700</td>\n",
       "      <td>43700.0</td>\n",
       "      <td>211.88</td>\n",
       "      <td>39.075</td>\n",
       "    </tr>\n",
       "    <tr>\n",
       "      <th>2</th>\n",
       "      <td>AHMADABAD</td>\n",
       "      <td>1997</td>\n",
       "      <td>Kharif</td>\n",
       "      <td>Dry chillies</td>\n",
       "      <td>700</td>\n",
       "      <td>700.0</td>\n",
       "      <td>211.88</td>\n",
       "      <td>39.075</td>\n",
       "    </tr>\n",
       "    <tr>\n",
       "      <th>3</th>\n",
       "      <td>AHMADABAD</td>\n",
       "      <td>1997</td>\n",
       "      <td>Kharif</td>\n",
       "      <td>Groundnut</td>\n",
       "      <td>500</td>\n",
       "      <td>600.0</td>\n",
       "      <td>211.88</td>\n",
       "      <td>39.075</td>\n",
       "    </tr>\n",
       "    <tr>\n",
       "      <th>4</th>\n",
       "      <td>AHMADABAD</td>\n",
       "      <td>1997</td>\n",
       "      <td>Kharif</td>\n",
       "      <td>Jowar</td>\n",
       "      <td>42500</td>\n",
       "      <td>33500.0</td>\n",
       "      <td>211.88</td>\n",
       "      <td>39.075</td>\n",
       "    </tr>\n",
       "  </tbody>\n",
       "</table>\n",
       "</div>"
      ],
      "text/plain": [
       "    District  Year  Season          Crop   Area  Production  Rainfall  \\\n",
       "0  AHMADABAD  1997  Kharif     Arhar/Tur   2900      2200.0    211.88   \n",
       "1  AHMADABAD  1997  Kharif         Bajra  41700     43700.0    211.88   \n",
       "2  AHMADABAD  1997  Kharif  Dry chillies    700       700.0    211.88   \n",
       "3  AHMADABAD  1997  Kharif     Groundnut    500       600.0    211.88   \n",
       "4  AHMADABAD  1997  Kharif         Jowar  42500     33500.0    211.88   \n",
       "\n",
       "   temperature  \n",
       "0       39.075  \n",
       "1       39.075  \n",
       "2       39.075  \n",
       "3       39.075  \n",
       "4       39.075  "
      ]
     },
     "execution_count": 5,
     "metadata": {},
     "output_type": "execute_result"
    }
   ],
   "source": [
    "df=df.drop(['State'],axis=1)\n",
    "df.head()\n"
   ]
  },
  {
   "cell_type": "code",
   "execution_count": 6,
   "metadata": {},
   "outputs": [
    {
     "data": {
      "text/plain": [
       "0     2200.0\n",
       "1    43700.0\n",
       "2      700.0\n",
       "3      600.0\n",
       "4    33500.0\n",
       "Name: Production, dtype: float64"
      ]
     },
     "execution_count": 6,
     "metadata": {},
     "output_type": "execute_result"
    }
   ],
   "source": [
    "y=df['Production']\n",
    "y.head()"
   ]
  },
  {
   "cell_type": "code",
   "execution_count": 7,
   "metadata": {},
   "outputs": [
    {
     "data": {
      "text/html": [
       "<div>\n",
       "<style scoped>\n",
       "    .dataframe tbody tr th:only-of-type {\n",
       "        vertical-align: middle;\n",
       "    }\n",
       "\n",
       "    .dataframe tbody tr th {\n",
       "        vertical-align: top;\n",
       "    }\n",
       "\n",
       "    .dataframe thead th {\n",
       "        text-align: right;\n",
       "    }\n",
       "</style>\n",
       "<table border=\"1\" class=\"dataframe\">\n",
       "  <thead>\n",
       "    <tr style=\"text-align: right;\">\n",
       "      <th></th>\n",
       "      <th>District</th>\n",
       "      <th>Year</th>\n",
       "      <th>Season</th>\n",
       "      <th>Crop</th>\n",
       "      <th>Area</th>\n",
       "      <th>Rainfall</th>\n",
       "      <th>temperature</th>\n",
       "    </tr>\n",
       "  </thead>\n",
       "  <tbody>\n",
       "    <tr>\n",
       "      <th>0</th>\n",
       "      <td>AHMADABAD</td>\n",
       "      <td>1997</td>\n",
       "      <td>Kharif</td>\n",
       "      <td>Arhar/Tur</td>\n",
       "      <td>2900</td>\n",
       "      <td>211.88</td>\n",
       "      <td>39.075</td>\n",
       "    </tr>\n",
       "    <tr>\n",
       "      <th>1</th>\n",
       "      <td>AHMADABAD</td>\n",
       "      <td>1997</td>\n",
       "      <td>Kharif</td>\n",
       "      <td>Bajra</td>\n",
       "      <td>41700</td>\n",
       "      <td>211.88</td>\n",
       "      <td>39.075</td>\n",
       "    </tr>\n",
       "    <tr>\n",
       "      <th>2</th>\n",
       "      <td>AHMADABAD</td>\n",
       "      <td>1997</td>\n",
       "      <td>Kharif</td>\n",
       "      <td>Dry chillies</td>\n",
       "      <td>700</td>\n",
       "      <td>211.88</td>\n",
       "      <td>39.075</td>\n",
       "    </tr>\n",
       "    <tr>\n",
       "      <th>3</th>\n",
       "      <td>AHMADABAD</td>\n",
       "      <td>1997</td>\n",
       "      <td>Kharif</td>\n",
       "      <td>Groundnut</td>\n",
       "      <td>500</td>\n",
       "      <td>211.88</td>\n",
       "      <td>39.075</td>\n",
       "    </tr>\n",
       "    <tr>\n",
       "      <th>4</th>\n",
       "      <td>AHMADABAD</td>\n",
       "      <td>1997</td>\n",
       "      <td>Kharif</td>\n",
       "      <td>Jowar</td>\n",
       "      <td>42500</td>\n",
       "      <td>211.88</td>\n",
       "      <td>39.075</td>\n",
       "    </tr>\n",
       "  </tbody>\n",
       "</table>\n",
       "</div>"
      ],
      "text/plain": [
       "    District  Year  Season          Crop   Area  Rainfall  temperature\n",
       "0  AHMADABAD  1997  Kharif     Arhar/Tur   2900    211.88       39.075\n",
       "1  AHMADABAD  1997  Kharif         Bajra  41700    211.88       39.075\n",
       "2  AHMADABAD  1997  Kharif  Dry chillies    700    211.88       39.075\n",
       "3  AHMADABAD  1997  Kharif     Groundnut    500    211.88       39.075\n",
       "4  AHMADABAD  1997  Kharif         Jowar  42500    211.88       39.075"
      ]
     },
     "execution_count": 7,
     "metadata": {},
     "output_type": "execute_result"
    }
   ],
   "source": [
    "df=df.drop(['Production'],axis=1)\n",
    "df.head()"
   ]
  },
  {
   "cell_type": "code",
   "execution_count": 8,
   "metadata": {},
   "outputs": [
    {
     "data": {
      "text/html": [
       "<div>\n",
       "<style scoped>\n",
       "    .dataframe tbody tr th:only-of-type {\n",
       "        vertical-align: middle;\n",
       "    }\n",
       "\n",
       "    .dataframe tbody tr th {\n",
       "        vertical-align: top;\n",
       "    }\n",
       "\n",
       "    .dataframe thead th {\n",
       "        text-align: right;\n",
       "    }\n",
       "</style>\n",
       "<table border=\"1\" class=\"dataframe\">\n",
       "  <thead>\n",
       "    <tr style=\"text-align: right;\">\n",
       "      <th></th>\n",
       "      <th>District</th>\n",
       "      <th>Year</th>\n",
       "      <th>Season</th>\n",
       "      <th>Crop</th>\n",
       "      <th>Area</th>\n",
       "      <th>Rainfall</th>\n",
       "      <th>temperature</th>\n",
       "    </tr>\n",
       "  </thead>\n",
       "  <tbody>\n",
       "    <tr>\n",
       "      <th>0</th>\n",
       "      <td>AHMADABAD</td>\n",
       "      <td>1997</td>\n",
       "      <td>Kharif</td>\n",
       "      <td>Arhar/Tur</td>\n",
       "      <td>2900</td>\n",
       "      <td>211.88</td>\n",
       "      <td>39.075</td>\n",
       "    </tr>\n",
       "    <tr>\n",
       "      <th>1</th>\n",
       "      <td>AHMADABAD</td>\n",
       "      <td>1997</td>\n",
       "      <td>Kharif</td>\n",
       "      <td>Bajra</td>\n",
       "      <td>41700</td>\n",
       "      <td>211.88</td>\n",
       "      <td>39.075</td>\n",
       "    </tr>\n",
       "    <tr>\n",
       "      <th>2</th>\n",
       "      <td>AHMADABAD</td>\n",
       "      <td>1997</td>\n",
       "      <td>Kharif</td>\n",
       "      <td>Dry chillies</td>\n",
       "      <td>700</td>\n",
       "      <td>211.88</td>\n",
       "      <td>39.075</td>\n",
       "    </tr>\n",
       "    <tr>\n",
       "      <th>3</th>\n",
       "      <td>AHMADABAD</td>\n",
       "      <td>1997</td>\n",
       "      <td>Kharif</td>\n",
       "      <td>Groundnut</td>\n",
       "      <td>500</td>\n",
       "      <td>211.88</td>\n",
       "      <td>39.075</td>\n",
       "    </tr>\n",
       "    <tr>\n",
       "      <th>4</th>\n",
       "      <td>AHMADABAD</td>\n",
       "      <td>1997</td>\n",
       "      <td>Kharif</td>\n",
       "      <td>Jowar</td>\n",
       "      <td>42500</td>\n",
       "      <td>211.88</td>\n",
       "      <td>39.075</td>\n",
       "    </tr>\n",
       "  </tbody>\n",
       "</table>\n",
       "</div>"
      ],
      "text/plain": [
       "    District  Year  Season          Crop   Area  Rainfall  temperature\n",
       "0  AHMADABAD  1997  Kharif     Arhar/Tur   2900    211.88       39.075\n",
       "1  AHMADABAD  1997  Kharif         Bajra  41700    211.88       39.075\n",
       "2  AHMADABAD  1997  Kharif  Dry chillies    700    211.88       39.075\n",
       "3  AHMADABAD  1997  Kharif     Groundnut    500    211.88       39.075\n",
       "4  AHMADABAD  1997  Kharif         Jowar  42500    211.88       39.075"
      ]
     },
     "execution_count": 8,
     "metadata": {},
     "output_type": "execute_result"
    }
   ],
   "source": [
    "X=df\n",
    "X.head()"
   ]
  },
  {
   "cell_type": "code",
   "execution_count": 9,
   "metadata": {},
   "outputs": [],
   "source": [
    "from sklearn.preprocessing import LabelEncoder\n",
    "crop_encoder=LabelEncoder()\n",
    "season_encoder=LabelEncoder()\n",
    "district_encoder=LabelEncoder()"
   ]
  },
  {
   "cell_type": "code",
   "execution_count": 10,
   "metadata": {},
   "outputs": [],
   "source": [
    "X['Season']=season_encoder.fit_transform(X['Season'])\n",
    "X['Crop']=crop_encoder.fit_transform(X['Crop'])\n",
    "X['District']=crop_encoder.fit_transform(X['District'])"
   ]
  },
  {
   "cell_type": "code",
   "execution_count": 11,
   "metadata": {},
   "outputs": [],
   "source": [
    "X['Year']=2020-X['Year']"
   ]
  },
  {
   "cell_type": "code",
   "execution_count": 12,
   "metadata": {},
   "outputs": [],
   "source": [
    "from sklearn.model_selection import train_test_split\n",
    "X_train, X_test, Y_train, Y_test = train_test_split(X,y,test_size=0.3,random_state=0)"
   ]
  },
  {
   "cell_type": "code",
   "execution_count": 13,
   "metadata": {},
   "outputs": [],
   "source": [
    "from sklearn.ensemble import RandomForestRegressor\n",
    "clf = RandomForestRegressor()"
   ]
  },
  {
   "cell_type": "code",
   "execution_count": 14,
   "metadata": {},
   "outputs": [
    {
     "data": {
      "text/plain": [
       "RandomForestRegressor()"
      ]
     },
     "execution_count": 14,
     "metadata": {},
     "output_type": "execute_result"
    }
   ],
   "source": [
    "clf.fit(X_train, Y_train)"
   ]
  },
  {
   "cell_type": "code",
   "execution_count": 15,
   "metadata": {},
   "outputs": [],
   "source": [
    "pickle.dump(clf,open('pickle_dump1.pkl','wb'))"
   ]
  },
  {
   "cell_type": "code",
   "execution_count": 16,
   "metadata": {},
   "outputs": [],
   "source": [
    "from sklearn.metrics import mean_absolute_error\n",
    "y_pred = clf.predict(X_test)"
   ]
  },
  {
   "cell_type": "code",
   "execution_count": 17,
   "metadata": {},
   "outputs": [
    {
     "data": {
      "text/plain": [
       "13618.919175298803"
      ]
     },
     "execution_count": 17,
     "metadata": {},
     "output_type": "execute_result"
    }
   ],
   "source": [
    "maerandom = mean_absolute_error(Y_test, y_pred)\n",
    "maerandom"
   ]
  },
  {
   "cell_type": "code",
   "execution_count": 18,
   "metadata": {},
   "outputs": [
    {
     "data": {
      "text/plain": [
       "0.9695944969990626"
      ]
     },
     "execution_count": 18,
     "metadata": {},
     "output_type": "execute_result"
    }
   ],
   "source": [
    "import sklearn.metrics as sn\n",
    "sn.r2_score(Y_test,y_pred)"
   ]
  },
  {
   "cell_type": "code",
   "execution_count": 19,
   "metadata": {},
   "outputs": [
    {
     "data": {
      "text/html": [
       "<div>\n",
       "<style scoped>\n",
       "    .dataframe tbody tr th:only-of-type {\n",
       "        vertical-align: middle;\n",
       "    }\n",
       "\n",
       "    .dataframe tbody tr th {\n",
       "        vertical-align: top;\n",
       "    }\n",
       "\n",
       "    .dataframe thead th {\n",
       "        text-align: right;\n",
       "    }\n",
       "</style>\n",
       "<table border=\"1\" class=\"dataframe\">\n",
       "  <thead>\n",
       "    <tr style=\"text-align: right;\">\n",
       "      <th></th>\n",
       "      <th>District</th>\n",
       "      <th>Year</th>\n",
       "      <th>Season</th>\n",
       "      <th>Crop</th>\n",
       "      <th>Area</th>\n",
       "      <th>Rainfall</th>\n",
       "      <th>temperature</th>\n",
       "    </tr>\n",
       "  </thead>\n",
       "  <tbody>\n",
       "    <tr>\n",
       "      <th>3008</th>\n",
       "      <td>9</td>\n",
       "      <td>19</td>\n",
       "      <td>0</td>\n",
       "      <td>29</td>\n",
       "      <td>3400</td>\n",
       "      <td>134.950</td>\n",
       "      <td>39.357500</td>\n",
       "    </tr>\n",
       "    <tr>\n",
       "      <th>3768</th>\n",
       "      <td>11</td>\n",
       "      <td>17</td>\n",
       "      <td>3</td>\n",
       "      <td>19</td>\n",
       "      <td>200</td>\n",
       "      <td>76.938</td>\n",
       "      <td>29.750000</td>\n",
       "    </tr>\n",
       "    <tr>\n",
       "      <th>7504</th>\n",
       "      <td>22</td>\n",
       "      <td>10</td>\n",
       "      <td>1</td>\n",
       "      <td>30</td>\n",
       "      <td>66100</td>\n",
       "      <td>21.550</td>\n",
       "      <td>27.786667</td>\n",
       "    </tr>\n",
       "    <tr>\n",
       "      <th>3514</th>\n",
       "      <td>10</td>\n",
       "      <td>13</td>\n",
       "      <td>3</td>\n",
       "      <td>6</td>\n",
       "      <td>19400</td>\n",
       "      <td>86.234</td>\n",
       "      <td>29.840000</td>\n",
       "    </tr>\n",
       "    <tr>\n",
       "      <th>361</th>\n",
       "      <td>0</td>\n",
       "      <td>8</td>\n",
       "      <td>0</td>\n",
       "      <td>24</td>\n",
       "      <td>1600</td>\n",
       "      <td>103.630</td>\n",
       "      <td>39.322500</td>\n",
       "    </tr>\n",
       "  </tbody>\n",
       "</table>\n",
       "</div>"
      ],
      "text/plain": [
       "      District  Year  Season  Crop   Area  Rainfall  temperature\n",
       "3008         9    19       0    29   3400   134.950    39.357500\n",
       "3768        11    17       3    19    200    76.938    29.750000\n",
       "7504        22    10       1    30  66100    21.550    27.786667\n",
       "3514        10    13       3     6  19400    86.234    29.840000\n",
       "361          0     8       0    24   1600   103.630    39.322500"
      ]
     },
     "execution_count": 19,
     "metadata": {},
     "output_type": "execute_result"
    }
   ],
   "source": [
    "X_train.head()"
   ]
  },
  {
   "cell_type": "code",
   "execution_count": 20,
   "metadata": {},
   "outputs": [
    {
     "data": {
      "text/plain": [
       "array([4163.])"
      ]
     },
     "execution_count": 20,
     "metadata": {},
     "output_type": "execute_result"
    }
   ],
   "source": [
    "x=np.array([[11,17,3,19,200,76.938,29.750000]])\n",
    "\n",
    "y_new=clf.predict(x)\n",
    "y_new"
   ]
  },
  {
   "cell_type": "code",
   "execution_count": 21,
   "metadata": {},
   "outputs": [
    {
     "name": "stdout",
     "output_type": "stream",
     "text": [
      "3768    3800.0\n",
      "Name: Production, dtype: float64\n"
     ]
    }
   ],
   "source": [
    "print(y.loc[[3768]])"
   ]
  },
  {
   "cell_type": "code",
   "execution_count": 22,
   "metadata": {},
   "outputs": [],
   "source": [
    "import seaborn as sns"
   ]
  },
  {
   "cell_type": "code",
   "execution_count": 23,
   "metadata": {},
   "outputs": [
    {
     "data": {
      "text/plain": [
       "<matplotlib.axes._subplots.AxesSubplot at 0x285568806c8>"
      ]
     },
     "execution_count": 23,
     "metadata": {},
     "output_type": "execute_result"
    },
    {
     "data": {
      "image/png": "[encoded data removed]",
      "text/plain": [
       "<Figure size 432x288 with 1 Axes>"
      ]
     },
     "metadata": {
      "needs_background": "light"
     },
     "output_type": "display_data"
    }
   ],
   "source": [
    "sns.distplot(Y_test-y_pred)"
   ]
  },
  {
   "cell_type": "code",
   "execution_count": 24,
   "metadata": {},
   "outputs": [
    {
     "data": {
      "text/plain": [
       "<matplotlib.collections.PathCollection at 0x285561f4a48>"
      ]
     },
     "execution_count": 24,
     "metadata": {},
     "output_type": "execute_result"
    },
    {
     "data": {
      "image/png": "[encoded data removed]",
      "text/plain": [
       "<Figure size 432x288 with 1 Axes>"
      ]
     },
     "metadata": {
      "needs_background": "light"
     },
     "output_type": "display_data"
    }
   ],
   "source": [
    "import matplotlib.pyplot as plt\n",
    "plt.scatter(Y_test,y_pred)"
   ]
  },
  {
   "cell_type": "code",
   "execution_count": 25,
   "metadata": {},
   "outputs": [],
   "source": [
    "from sklearn import metrics"
   ]
  },
  {
   "cell_type": "code",
   "execution_count": 26,
   "metadata": {},
   "outputs": [
    {
     "name": "stdout",
     "output_type": "stream",
     "text": [
      "MAE: 13618.919175298803\n",
      "MSE: 4944367382.746363\n",
      "RMSE: 70316.19573573618\n"
     ]
    }
   ],
   "source": [
    "print('MAE:', metrics.mean_absolute_error(Y_test, y_pred))\n",
    "print('MSE:', metrics.mean_squared_error(Y_test, y_pred))\n",
    "print('RMSE:', np.sqrt(metrics.mean_squared_error(Y_test, y_pred)))"
   ]
  },
  {
   "cell_type": "code",
   "execution_count": 27,
   "metadata": {},
   "outputs": [
    {
     "data": {
      "text/plain": [
       "array([10748.])"
      ]
     },
     "execution_count": 27,
     "metadata": {},
     "output_type": "execute_result"
    }
   ],
   "source": [
    "x=np.array([[11,17,3,0,200,76.938,29.750000]])\n",
    "\n",
    "y_new=clf.predict(x)\n",
    "y_new"
   ]
  },
  {
   "cell_type": "code",
   "execution_count": 28,
   "metadata": {},
   "outputs": [
    {
     "data": {
      "text/plain": [
       "<matplotlib.axes._subplots.AxesSubplot at 0x285571d0808>"
      ]
     },
     "execution_count": 28,
     "metadata": {},
     "output_type": "execute_result"
    },
    {
     "data": {
      "image/png": "[encoded data removed]",
      "text/plain": [
       "<Figure size 432x288 with 1 Axes>"
      ]
     },
     "metadata": {
      "needs_background": "light"
     },
     "output_type": "display_data"
    }
   ],
   "source": [
    "sns.distplot(Y_test)"
   ]
  },
  {
   "cell_type": "code",
   "execution_count": 29,
   "metadata": {},
   "outputs": [
    {
     "data": {
      "text/plain": [
       "<matplotlib.axes._subplots.AxesSubplot at 0x2855729ef48>"
      ]
     },
     "execution_count": 29,
     "metadata": {},
     "output_type": "execute_result"
    },
    {
     "data": {
      "image/png": "[encoded data removed]",
      "text/plain": [
       "<Figure size 432x288 with 1 Axes>"
      ]
     },
     "metadata": {
      "needs_background": "light"
     },
     "output_type": "display_data"
    }
   ],
   "source": [
    "sns.distplot(y_pred)"
   ]
  },
  {
   "cell_type": "code",
   "execution_count": 30,
   "metadata": {},
   "outputs": [
    {
     "data": {
      "text/html": [
       "<div>\n",
       "<style scoped>\n",
       "    .dataframe tbody tr th:only-of-type {\n",
       "        vertical-align: middle;\n",
       "    }\n",
       "\n",
       "    .dataframe tbody tr th {\n",
       "        vertical-align: top;\n",
       "    }\n",
       "\n",
       "    .dataframe thead th {\n",
       "        text-align: right;\n",
       "    }\n",
       "</style>\n",
       "<table border=\"1\" class=\"dataframe\">\n",
       "  <thead>\n",
       "    <tr style=\"text-align: right;\">\n",
       "      <th></th>\n",
       "      <th>District</th>\n",
       "      <th>Year</th>\n",
       "      <th>Season</th>\n",
       "      <th>Crop</th>\n",
       "      <th>Area</th>\n",
       "      <th>Rainfall</th>\n",
       "      <th>temperature</th>\n",
       "    </tr>\n",
       "  </thead>\n",
       "  <tbody>\n",
       "    <tr>\n",
       "      <th>District</th>\n",
       "      <td>1.000000</td>\n",
       "      <td>-0.025514</td>\n",
       "      <td>0.015913</td>\n",
       "      <td>0.020407</td>\n",
       "      <td>-0.025840</td>\n",
       "      <td>-0.011778</td>\n",
       "      <td>-0.017418</td>\n",
       "    </tr>\n",
       "    <tr>\n",
       "      <th>Year</th>\n",
       "      <td>-0.025514</td>\n",
       "      <td>1.000000</td>\n",
       "      <td>0.059185</td>\n",
       "      <td>-0.020348</td>\n",
       "      <td>0.044393</td>\n",
       "      <td>0.058030</td>\n",
       "      <td>-0.020803</td>\n",
       "    </tr>\n",
       "    <tr>\n",
       "      <th>Season</th>\n",
       "      <td>0.015913</td>\n",
       "      <td>0.059185</td>\n",
       "      <td>1.000000</td>\n",
       "      <td>-0.003243</td>\n",
       "      <td>-0.147490</td>\n",
       "      <td>-0.573853</td>\n",
       "      <td>-0.757524</td>\n",
       "    </tr>\n",
       "    <tr>\n",
       "      <th>Crop</th>\n",
       "      <td>0.020407</td>\n",
       "      <td>-0.020348</td>\n",
       "      <td>-0.003243</td>\n",
       "      <td>1.000000</td>\n",
       "      <td>-0.074487</td>\n",
       "      <td>-0.119722</td>\n",
       "      <td>-0.157327</td>\n",
       "    </tr>\n",
       "    <tr>\n",
       "      <th>Area</th>\n",
       "      <td>-0.025840</td>\n",
       "      <td>0.044393</td>\n",
       "      <td>-0.147490</td>\n",
       "      <td>-0.074487</td>\n",
       "      <td>1.000000</td>\n",
       "      <td>0.130388</td>\n",
       "      <td>0.142833</td>\n",
       "    </tr>\n",
       "    <tr>\n",
       "      <th>Rainfall</th>\n",
       "      <td>-0.011778</td>\n",
       "      <td>0.058030</td>\n",
       "      <td>-0.573853</td>\n",
       "      <td>-0.119722</td>\n",
       "      <td>0.130388</td>\n",
       "      <td>1.000000</td>\n",
       "      <td>0.830045</td>\n",
       "    </tr>\n",
       "    <tr>\n",
       "      <th>temperature</th>\n",
       "      <td>-0.017418</td>\n",
       "      <td>-0.020803</td>\n",
       "      <td>-0.757524</td>\n",
       "      <td>-0.157327</td>\n",
       "      <td>0.142833</td>\n",
       "      <td>0.830045</td>\n",
       "      <td>1.000000</td>\n",
       "    </tr>\n",
       "  </tbody>\n",
       "</table>\n",
       "</div>"
      ],
      "text/plain": [
       "             District      Year    Season      Crop      Area  Rainfall  \\\n",
       "District     1.000000 -0.025514  0.015913  0.020407 -0.025840 -0.011778   \n",
       "Year        -0.025514  1.000000  0.059185 -0.020348  0.044393  0.058030   \n",
       "Season       0.015913  0.059185  1.000000 -0.003243 -0.147490 -0.573853   \n",
       "Crop         0.020407 -0.020348 -0.003243  1.000000 -0.074487 -0.119722   \n",
       "Area        -0.025840  0.044393 -0.147490 -0.074487  1.000000  0.130388   \n",
       "Rainfall    -0.011778  0.058030 -0.573853 -0.119722  0.130388  1.000000   \n",
       "temperature -0.017418 -0.020803 -0.757524 -0.157327  0.142833  0.830045   \n",
       "\n",
       "             temperature  \n",
       "District       -0.017418  \n",
       "Year           -0.020803  \n",
       "Season         -0.757524  \n",
       "Crop           -0.157327  \n",
       "Area            0.142833  \n",
       "Rainfall        0.830045  \n",
       "temperature     1.000000  "
      ]
     },
     "execution_count": 30,
     "metadata": {},
     "output_type": "execute_result"
    }
   ],
   "source": [
    "df.corr()"
   ]
  },
  {
   "cell_type": "code",
   "execution_count": 31,
   "metadata": {},
   "outputs": [],
   "source": [
    "final=pd.read_csv(\"Gujarat Data(final).csv\")"
   ]
  },
  {
   "cell_type": "code",
   "execution_count": 32,
   "metadata": {},
   "outputs": [
    {
     "data": {
      "text/html": [
       "<div>\n",
       "<style scoped>\n",
       "    .dataframe tbody tr th:only-of-type {\n",
       "        vertical-align: middle;\n",
       "    }\n",
       "\n",
       "    .dataframe tbody tr th {\n",
       "        vertical-align: top;\n",
       "    }\n",
       "\n",
       "    .dataframe thead th {\n",
       "        text-align: right;\n",
       "    }\n",
       "</style>\n",
       "<table border=\"1\" class=\"dataframe\">\n",
       "  <thead>\n",
       "    <tr style=\"text-align: right;\">\n",
       "      <th></th>\n",
       "      <th>Year</th>\n",
       "      <th>Area</th>\n",
       "      <th>Production</th>\n",
       "      <th>Rainfall</th>\n",
       "      <th>temperature</th>\n",
       "    </tr>\n",
       "  </thead>\n",
       "  <tbody>\n",
       "    <tr>\n",
       "      <th>Year</th>\n",
       "      <td>1.000000</td>\n",
       "      <td>-0.042335</td>\n",
       "      <td>-0.005364</td>\n",
       "      <td>-0.058454</td>\n",
       "      <td>0.019151</td>\n",
       "    </tr>\n",
       "    <tr>\n",
       "      <th>Area</th>\n",
       "      <td>-0.042335</td>\n",
       "      <td>1.000000</td>\n",
       "      <td>0.290813</td>\n",
       "      <td>0.129327</td>\n",
       "      <td>0.141472</td>\n",
       "    </tr>\n",
       "    <tr>\n",
       "      <th>Production</th>\n",
       "      <td>-0.005364</td>\n",
       "      <td>0.290813</td>\n",
       "      <td>1.000000</td>\n",
       "      <td>-0.005216</td>\n",
       "      <td>-0.051725</td>\n",
       "    </tr>\n",
       "    <tr>\n",
       "      <th>Rainfall</th>\n",
       "      <td>-0.058454</td>\n",
       "      <td>0.129327</td>\n",
       "      <td>-0.005216</td>\n",
       "      <td>1.000000</td>\n",
       "      <td>0.829880</td>\n",
       "    </tr>\n",
       "    <tr>\n",
       "      <th>temperature</th>\n",
       "      <td>0.019151</td>\n",
       "      <td>0.141472</td>\n",
       "      <td>-0.051725</td>\n",
       "      <td>0.829880</td>\n",
       "      <td>1.000000</td>\n",
       "    </tr>\n",
       "  </tbody>\n",
       "</table>\n",
       "</div>"
      ],
      "text/plain": [
       "                 Year      Area  Production  Rainfall  temperature\n",
       "Year         1.000000 -0.042335   -0.005364 -0.058454     0.019151\n",
       "Area        -0.042335  1.000000    0.290813  0.129327     0.141472\n",
       "Production  -0.005364  0.290813    1.000000 -0.005216    -0.051725\n",
       "Rainfall    -0.058454  0.129327   -0.005216  1.000000     0.829880\n",
       "temperature  0.019151  0.141472   -0.051725  0.829880     1.000000"
      ]
     },
     "execution_count": 32,
     "metadata": {},
     "output_type": "execute_result"
    }
   ],
   "source": [
    "final.corr()"
   ]
  },
  {
   "cell_type": "code",
   "execution_count": null,
   "metadata": {},
   "outputs": [],
   "source": []
  }
 ],
 "metadata": {
  "kernelspec": {
   "display_name": "Python 3",
   "language": "python",
   "name": "python3"
  },
  "language_info": {
   "codemirror_mode": {
    "name": "ipython",
    "version": 3
   },
   "file_extension": ".py",
   "mimetype": "text/x-python",
   "name": "python",
   "nbconvert_exporter": "python",
   "pygments_lexer": "ipython3",
   "version": "3.7.6"
  }
 },
 "nbformat": 4,
 "nbformat_minor": 4
}
